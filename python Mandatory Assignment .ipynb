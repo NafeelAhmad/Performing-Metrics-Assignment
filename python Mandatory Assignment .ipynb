{
 "cells": [
  {
   "cell_type": "markdown",
   "metadata": {},
   "source": [
    "# Python Mandotary Assignment : Without Numpy & Sklearn"
   ]
  },
  {
   "cell_type": "markdown",
   "metadata": {},
   "source": [
    "### Q 1) Print the product of two matrices which is given. "
   ]
  },
  {
   "cell_type": "code",
   "execution_count": 28,
   "metadata": {},
   "outputs": [],
   "source": [
    "A = [[1,2,3], # Matrix A\n",
    "     [4,5,6], \n",
    "     [7,8,9]]\n",
    "B = [[9,8,7], # Matrix B\n",
    "     [6,5,4],\n",
    "     [3,2,1]]\n",
    "\n",
    "C = [[0, 0, 0], # Result Matrix\n",
    "    [0, 0, 0],\n",
    "    [0, 0, 0]]\n"
   ]
  },
  {
   "cell_type": "code",
   "execution_count": 30,
   "metadata": {},
   "outputs": [
    {
     "name": "stdout",
     "output_type": "stream",
     "text": [
      "[60, 48, 36]\n",
      "[168, 138, 108]\n",
      "[276, 228, 180]\n"
     ]
    }
   ],
   "source": [
    "for i in range(len(A)): # Iterating by rows of A\n",
    "    for j in range(len(B[0])): # Iterating by column of B\n",
    "        for k in range(len(B)): # Iterating by rows of B\n",
    "            C[i][j] += A[i][k] * B[k][j] # Multiplying Both Matrix (3x3)\n",
    "for r in C:\n",
    "    print(r)"
   ]
  },
  {
   "cell_type": "markdown",
   "metadata": {},
   "source": [
    "### Q2: Proportional Sampling - Select a number randomly with probability proportional to its magnitude from the given array of n elements."
   ]
  },
  {
   "cell_type": "code",
   "execution_count": 6,
   "metadata": {},
   "outputs": [
    {
     "name": "stdout",
     "output_type": "stream",
     "text": [
      "[6, 5, 4, 3, 2, 1]\n",
      "number:6, frequency :30\n",
      "number:5, frequency :24\n",
      "number:4, frequency :19\n",
      "number:3, frequency :8\n",
      "number:2, frequency :9\n",
      "number:1, frequency :10\n"
     ]
    }
   ],
   "source": [
    "import random\n",
    "A = [1,2,3,4,5,6]\n",
    "\n",
    "#Sum of all the elements in the array\n",
    "S = sum(A)\n",
    "\n",
    "#Calculating normalized sum\n",
    "norm_sum = [ele/S for ele in A]\n",
    "\n",
    "#Calculating cumulative normalized sum\n",
    "cum_norm_sum = []\n",
    "cum_norm_sum.append(norm_sum[0])\n",
    "for itr in range(1, len(norm_sum), 1) :\n",
    "   cum_norm_sum.append(cum_norm_sum[-1] + norm_sum[itr])\n",
    "\n",
    "def prop_sampling(cum_norm_sum) :\n",
    "    r = random.random()\n",
    "    for itr in range(len(cum_norm_sum)) :\n",
    "       if r <  cum_norm_sum[itr] :\n",
    "           return A[itr]\n",
    "\n",
    "#Sampling 100 elements from the given list with proportional sampling\n",
    "sampled_elements = []\n",
    "for itr in range(100) :\n",
    "   sampled_elements.append(prop_sampling(cum_norm_sum))\n",
    "\n",
    "C = (sorted(A, reverse=True))\n",
    "print(C)\n",
    "for ele in C:\n",
    "    print(\"number:{0}, frequency :{1}\".format(ele, sampled_elements.count(ele)))"
   ]
  },
  {
   "cell_type": "markdown",
   "metadata": {},
   "source": [
    "### Q3: Replace the digits in the string with '#'"
   ]
  },
  {
   "cell_type": "code",
   "execution_count": 32,
   "metadata": {},
   "outputs": [
    {
     "name": "stdout",
     "output_type": "stream",
     "text": [
      "The Original string is : 234, a2b3c4, abc, #2a$#b%c%561#\n",
      "the resultant string : ###, a#b#c#, abc, ##a$#b%c%####\n"
     ]
    }
   ],
   "source": [
    "test_str = '234, a2b3c4, abc, #2a$#b%c%561#'\n",
    "\n",
    "print('The Original string is : ' + str(test_str))\n",
    "\n",
    "k = '#'\n",
    "\n",
    "for ele in test_str:\n",
    "    if ele.isdigit():  # Checking digits in the string\n",
    "        test_str = test_str.replace(ele, k) # replacing all digits in string\n",
    "        \n",
    "print(\"the resultant string : \"+ str(test_str))"
   ]
  },
  {
   "cell_type": "markdown",
   "metadata": {},
   "source": [
    "### Q4:  Task is to print the name of students\n",
    "#### a) Who got top 5 ranks, in the descending order of marks.\n",
    "#### b) Who got least 5 ranks, in the increasing order of marks.\n",
    "#### c) Who got marks between  &gt;25th percentile &lt;75th percentile, in the increasing order of marks."
   ]
  },
  {
   "cell_type": "code",
   "execution_count": 12,
   "metadata": {},
   "outputs": [
    {
     "name": "stdout",
     "output_type": "stream",
     "text": [
      "Marks in Increasing Order :  [12, 14, 22, 43, 45, 47, 48, 78, 80, 98]\n",
      "Marks in Decreasing Order :  [98, 80, 78, 48, 47, 45, 43, 22, 14, 12]\n",
      "---Answer of first part of question.---\n",
      "Student got Top 5 rank in the Descending Order :  [98, 80, 78, 48, 47]\n",
      "---Answer of Second part of question.---\n",
      "Student got least 5 rank in the Increasing Order :  [12, 14, 22, 43, 45]\n",
      "---Answer of Third part of question.---\n",
      "25th and 75th percentile: 22 78\n",
      "Marks between 25th and 75th percentile:\n",
      "43\n",
      "45\n",
      "47\n",
      "48\n"
     ]
    }
   ],
   "source": [
    "Students=['student1','student2','student3','student4','student5','student6','student7','student8','student9','student10'] \n",
    "Marks = [45, 78, 12, 14, 48, 43, 47, 98, 22, 80]\n",
    "\n",
    "Increasing_Marks = sorted(Marks) # First sorting marks in increasing order\n",
    "print(\"Marks in Increasing Order : \", Increasing_Marks)\n",
    "\n",
    "Decreasing_Marks = sorted(Marks, reverse = True) # Sorting marks in decreasing order\n",
    "print(\"Marks in Decreasing Order : \", Decreasing_Marks)\n",
    "\n",
    "print('---Answer of first part of question.---') \n",
    "print(\"Student got Top 5 rank in the Descending Order : \",Decreasing_Marks[:5])\n",
    "\n",
    "print('---Answer of Second part of question.---')\n",
    "print(\"Student got least 5 rank in the Increasing Order : \",Increasing_Marks[:5])\n",
    "\n",
    "import math\n",
    "\n",
    "def percentile(Marks, percentile): \n",
    "    size = len(Marks)\n",
    "    return sorted(Marks)[int(math.ceil((size * percentile) / 100)) - 1]\n",
    "\n",
    "p25 = percentile(Marks, 25)\n",
    "p75 = percentile(Marks, 75)\n",
    "\n",
    "print('---Answer of Third part of question.---')\n",
    "\n",
    "print('25th and 75th percentile:',p25,p75)\n",
    "print('Marks between 25th and 75th percentile:')\n",
    "for i in Increasing_Marks:\n",
    "    if i > 22 and i < 78: # here 22, 78 are 25th, 75th percentile respectively. \n",
    "        print(i)"
   ]
  },
  {
   "cell_type": "markdown",
   "metadata": {},
   "source": [
    "### Q5: Find 5 closest points(based on cosine distance) in S from P\n",
    "#### S= [(1,2),(3,4),(-1,1),(6,-7),(0, 6),(-5,-8),(-1,-1),(6,0),(1,-1)]\n",
    "#### P= (3,-4)\n"
   ]
  },
  {
   "cell_type": "code",
   "execution_count": 25,
   "metadata": {},
   "outputs": [
    {
     "name": "stdout",
     "output_type": "stream",
     "text": [
      "(6, -7)\n",
      "(1, -1)\n",
      "(6, 0)\n",
      "(-5, -8)\n",
      "(-1, -1)\n"
     ]
    }
   ],
   "source": [
    "import math\n",
    "\n",
    "x = []\n",
    "value = [(1, 2), (3, 4), (-1, 1), (6, -7), (0, 6), (-5, -8), (-1, -1), (6, 0), (1, -1)]\n",
    "for a,b in value:\n",
    "    numr = a*3 + b*(-4)\n",
    "    denm = math.sqrt(a**2 + b**2) * math.sqrt(3**2 + (-4)**2)\n",
    "    x.append(math.acos(numr/denm))\n",
    "    \n",
    "Y = [S for S in sorted(zip(S,X), key = lambda i: i[1])]\n",
    "k = Y[:5] # first 5 values from starting\n",
    "for i, j in k:\n",
    "    print(i) #printing first 5 closest point from P(3,-4)"
   ]
  },
  {
   "cell_type": "markdown",
   "metadata": {},
   "source": [
    "### Q6: Find Which line separates oranges and apples\n",
    "####  Task is for each line that is given print \"YES\"/\"NO\", you will print yes, if all the red points are one side of the line and blue points are other side of the line, otherwise no"
   ]
  },
  {
   "cell_type": "code",
   "execution_count": 10,
   "metadata": {},
   "outputs": [
    {
     "name": "stdout",
     "output_type": "stream",
     "text": [
      "Yes\n",
      "NO\n",
      "NO\n",
      "Yes\n"
     ]
    }
   ],
   "source": [
    "import math\n",
    "\n",
    "def line_seperator(red,blue,line):\n",
    "    #code for Red\n",
    "    for i in red:\n",
    "        eq=line.replace('x','*'+str(i[0]))\n",
    "        eq=eq.replace('y','*'+str(i[1]))\n",
    "        answer=eval(eq)\n",
    "        if answer>0:\n",
    "            pass\n",
    "        else:\n",
    "            return \"NO\"\n",
    "        \n",
    "    # Code for Blue\n",
    "    for j in blue:\n",
    "        eq1=line.replace('x','*'+str(j[0]))\n",
    "        eq1=eq1.replace('y','*'+str(j[1]))\n",
    "        answer1=eval(eq1)\n",
    "        if answer1<0:\n",
    "            pass\n",
    "        else:\n",
    "            return \"NO\"\n",
    "    return \"Yes\"\n",
    "\n",
    "Red= [(1,1),(2,1),(4,2),(2,4), (-1,4)]\n",
    "Blue= [(-2,-1),(-1,-2),(-3,-2),(-3,-1),(1,-3)]\n",
    "Lines=[\"1x+1y+0\",\"1x-1y+0\",\"1x+0y-3\",\"0x+1y-0.5\"]\n",
    "\n",
    "for i in Lines:\n",
    "    yes_or_no = line_seperator(Red, Blue, i)\n",
    "    print(yes_or_no)"
   ]
  },
  {
   "cell_type": "markdown",
   "metadata": {},
   "source": [
    "###  Q7: Filling the missing values in the specified formate"
   ]
  },
  {
   "cell_type": "code",
   "execution_count": 35,
   "metadata": {},
   "outputs": [
    {
     "name": "stdout",
     "output_type": "stream",
     "text": [
      "[6, 6, 6, 6]\n",
      "[20, 20, 20, 20, 20]\n",
      "[16, 16, 16, 16, 16]\n",
      "[10, 10, 12, 12, 12, 12, 4, 4, 4]\n"
     ]
    }
   ],
   "source": [
    "def replace(string):\n",
    "    lst=string.split(',')\n",
    "    for i in range(len(lst)):\n",
    "        if lst[i].isdigit():\n",
    "            for j in range(i+1):\n",
    "                lst[j]=int(lst[i])//(i+1)\n",
    "            new_index=i\n",
    "            new_value=int(lst[i])\n",
    "            break\n",
    "    for i in range(new_index+1,len(lst)):\n",
    "        if lst[i].isdigit():\n",
    "            temp=(new_value+int(lst[i]))//(i-new_index+1)\n",
    "            for j in range(new_index,i+1):\n",
    "                lst[j]=temp\n",
    "            new_index=i\n",
    "            new_value=int(lst[i])\n",
    "    try:\n",
    "        for i in range(new_index+1,len(lst)):\n",
    "            if not(lst[i].isdigit()):\n",
    "                count=lst.count('_')\n",
    "                break\n",
    "        temp1=new_value//(count+1)\n",
    "        for i in range(new_index,len(lst)):\n",
    "            lst[i]=temp1\n",
    "    except:\n",
    "        pass\n",
    "    return lst\n",
    "\n",
    "string =[\n",
    "    \"_,_,_,24\",\n",
    "    \"40,_,_,_,60\",\n",
    "    \"80,_,_,_,_\",\n",
    "     \"_,_,30,_,_,_,50,_,_\"]\n",
    "for i in string:\n",
    "    print (replace(i))"
   ]
  },
  {
   "cell_type": "markdown",
   "metadata": {},
   "source": [
    "### Q8: Task is to find\n",
    "#### a. Probability of P(F=F1|S==S1), P(F=F1|S==S2), P(F=F1|S==S3)\n",
    "#### b. Probability of P(F=F2|S==S1), P(F=F2|S==S2), P(F=F2|S==S3)\n",
    "#### c. Probability of P(F=F3|S==S1), P(F=F3|S==S2), P(F=F3|S==S3)\n",
    "#### d. Probability of P(F=F4|S==S1), P(F=F4|S==S2), P(F=F4|S==S3)\n",
    "#### e. Probability of P(F=F5|S==S1), P(F=F5|S==S2), P(F=F5|S==S3)\n"
   ]
  },
  {
   "cell_type": "code",
   "execution_count": 12,
   "metadata": {},
   "outputs": [
    {
     "name": "stdout",
     "output_type": "stream",
     "text": [
      "P(F=F1|S==S1)= 1/4\n",
      "P(F=F1|S==S2)= 1/3\n",
      "P(F=F1|S==S3)= 0\n",
      "P(F=F2|S==S1)= 1/4\n",
      "P(F=F2|S==S2)= 1/3\n",
      "P(F=F2|S==S3)= 1/3\n",
      "P(F=F3|S==S1)= 0\n",
      "P(F=F3|S==S2)= 1/3\n",
      "P(F=F3|S==S3)= 1/3\n",
      "P(F=F4|S==S1)= 1/4\n",
      "P(F=F4|S==S2)= 0\n",
      "P(F=F4|S==S3)= 1/3\n",
      "P(F=F5|S==S1)= 1/4\n",
      "P(F=F5|S==S2)= 0\n",
      "P(F=F5|S==S3)= 0\n"
     ]
    }
   ],
   "source": [
    "\n",
    "A = [['F1','S1'],['F2','S2'],['F3','S3'],['F1','S2'],['F2','S3'],['F3','S2'],['F2','S1'],['F4','S1'],['F4','S3'],['F5','S1']]\n",
    "from fractions import Fraction\n",
    "def values(F,S):\n",
    "    num=0\n",
    "    den=0\n",
    "    for i in range(len(A)):\n",
    "        if(A[i][1]==S):\n",
    "            den=den+1\n",
    "            if(A[i][0]==F):\n",
    "               num=num+1\n",
    "    print('P(F={}|S=={})='.format(F,S), Fraction(num,den))\n",
    "\n",
    "find_F = ['F1', 'F2', 'F3', 'F4', 'F5']\n",
    "find_S = ['S1', 'S2', 'S3']\n",
    "for k in find_F:\n",
    "    for m in find_S:\n",
    "        values(k,m)"
   ]
  },
  {
   "cell_type": "markdown",
   "metadata": {},
   "source": [
    "### Q9: Given two sentances S1, S2 , task is to find \n",
    "#### a. Number of common words between S1, S2\n",
    "#### b. Words in S1 but not in S2\n",
    "#### c. Words in S2 but not in S1\n"
   ]
  },
  {
   "cell_type": "code",
   "execution_count": 2,
   "metadata": {},
   "outputs": [
    {
     "name": "stdout",
     "output_type": "stream",
     "text": [
      "['the', 'column', 'will', 'contain', 'only', 'uniques', 'values']\n",
      "7\n",
      "['first', 'F', '5', 'second', 'S', '3']\n"
     ]
    }
   ],
   "source": [
    "\n",
    "S1= \"the first column F will contain only 5 uniques values\"\n",
    "S2= \"the second column S will contain only 3 uniques values\"\n",
    "\n",
    "w1 = S1.split()\n",
    "w2 = S2.split()\n",
    "\n",
    "commonwords = []\n",
    "for word in w1:\n",
    "    if (word in w2):\n",
    "        commonwords.append(word)\n",
    "\n",
    "print(commonwords) # print commomn words between S1 & S2\n",
    "print(len(commonwords)) # print length of commomn words\n",
    "\n",
    "def uncommon_words(S1):\n",
    "    count = {}\n",
    "    for word in S1.split():\n",
    "        count[word] = count.get(word, 0) + 1\n",
    "    # words of string s2\n",
    "    # return required list of words\n",
    "    for word in S2.split():\n",
    "        count[word] = count.get(word, 0) + 1\n",
    "    \n",
    "    return [word for word in count if count[word] == 1]\n",
    "  \n",
    "# Print required answer\n",
    "print(uncommon_words(S1))"
   ]
  },
  {
   "cell_type": "markdown",
   "metadata": {},
   "source": [
    "<h3> Q10: Given two sentances S1, S2</h3>\n",
    "You will be given a list of lists, each sublist will be of length 2 i.e. [[x,y],[p,q],[l,m]..[r,s]]\n",
    "consider its like a martrix of n rows and two columns\n",
    "\n",
    "a. the first column Y will contain interger values <br>\n",
    "b. the second column $Y_{score}$ will be having float values <br>\n",
    "Your task is to find the value of $f(Y,Y_{score}) = -1*\\frac{1}{n}\\Sigma_{for each Y,Y_{score} pair}(Ylog10(Y_{score})+(1-Y)log10(1-Y_{score}))$ here n is the number of rows in the matrix\n",
    "<pre>\n",
    "Ex:\n",
    "[[1, 0.4], [0, 0.5], [0, 0.9], [0, 0.3], [0, 0.6], [1, 0.1], [1, 0.9], [1, 0.8]]\n",
    "output:\n",
    "0.4243099\n",
    "</pre>\n",
    "$\\frac{-1}{8}\\cdot((1\\cdot log_{10}(0.4)+0\\cdot log_{10}(0.6))+(0\\cdot log_{10}(0.5)+1\\cdot log_{10}(0.5)) + ... + (1\\cdot log_{10}(0.8)+0\\cdot log_{10}(0.2)) )$"
   ]
  },
  {
   "cell_type": "code",
   "execution_count": 14,
   "metadata": {
    "scrolled": true
   },
   "outputs": [
    {
     "name": "stdout",
     "output_type": "stream",
     "text": [
      "0.42430993457031635\n"
     ]
    }
   ],
   "source": [
    "from math import *\n",
    "def comp_log_loss(A):\n",
    "    sum = 0\n",
    "    for i in A:\n",
    "        sum+=i[0]*log10(i[1])+(1-i[0])*log10(1-i[1])\n",
    "    loss=(-1/len(A))*sum\n",
    "    return loss\n",
    "A = [[1, 0.4], [0, 0.5], [0, 0.9], [0, 0.3], [0, 0.6], [1, 0.1], [1, 0.9], [1, 0.8]]\n",
    "log_loss= comp_log_loss(A)\n",
    "print(log_loss)"
   ]
  }
 ],
 "metadata": {
  "kernelspec": {
   "display_name": "Python 3",
   "language": "python",
   "name": "python3"
  },
  "language_info": {
   "codemirror_mode": {
    "name": "ipython",
    "version": 3
   },
   "file_extension": ".py",
   "mimetype": "text/x-python",
   "name": "python",
   "nbconvert_exporter": "python",
   "pygments_lexer": "ipython3",
   "version": "3.6.5"
  }
 },
 "nbformat": 4,
 "nbformat_minor": 2
}
